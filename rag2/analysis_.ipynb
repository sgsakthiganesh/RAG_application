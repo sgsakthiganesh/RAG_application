{
 "cells": [
  {
   "cell_type": "code",
   "execution_count": 1,
   "id": "97e4215d",
   "metadata": {},
   "outputs": [],
   "source": [
    "from langchain.document_loaders import PyPDFLoader\n",
    "from langchain.text_splitter import RecursiveCharacterTextSplitter\n",
    "from langchain.embeddings import HuggingFaceEmbeddings\n",
    "from langchain.vectorstores import FAISS"
   ]
  },
  {
   "cell_type": "code",
   "execution_count": 2,
   "id": "615ead8e",
   "metadata": {},
   "outputs": [],
   "source": [
    "path=r'C:\\Users\\sakth\\OneDrive\\Desktop\\rag2\\1900-2025.pdf'"
   ]
  },
  {
   "cell_type": "code",
   "execution_count": 3,
   "id": "b948070a",
   "metadata": {},
   "outputs": [
    {
     "data": {
      "text/plain": [
       "'1900–1914: The Era of Imperialism, Nationalism, and Alliance Building \\n1904 – The Russo-Japanese War \\n1904–1905 – Russo-Japanese War \\nMarked the first time an Asian power defeated a European empire, shifting power dynamics in East Asia and shaking \\nEuropean confidence. In 1904, the Russo-Japanese War emerged as a pivotal development in global politics. It was the first \\nmajor military victory of an Asian power over a European one in modern times. The war revealed the weaknesses of the \\nRussian Empire and contributed to internal unrest that would later culminate in revolution. Japan’s victory elevated its \\nstatus as a global power and shifted the balance in East Asia. It also inspired other colonial territories to consider resistance \\nagainst European domination. The conflict signaled the decline of European dominance in Asia and marked Japan’s arrival \\non the world stage. \\nThe early 20th century was marked by intense competition among the great powers of Europe, the United States, and \\nJapan for colonial dominance and global influence. This period, often called the “Age of Imperialism,” saw European \\ncountries scramble to expand their empires in Africa and Asia, exploiting resources and local populations. At the same time, \\nnationalist movements surged within multi-ethnic empires such as Austria-Hungary, Russia, and the Ottoman Empire, \\nwhere suppressed ethnic groups demanded autonomy or independence. The entangled alliance systems, including the \\nTriple Alliance of Germany, Austria-Hungary, and Italy, and the Triple Entente of France, Russia, and Britain, were meant to \\nprovide security, but instead heightened tensions. The assassination of Archduke Franz Ferdinand of Austria-Hungary in \\nSarajevo in June 1914 triggered a cascade of mobilizations and declarations of war, plunging the world into the devastating \\nconflict of World War I. \\n1914–1918: World War I and the Breakdown of Old Orders \\nIn 1914, the assassination of Archduke Franz Ferdinand of Austria-Hungary triggered the outbreak of World War I. This \\nsingle event activated a complex web of alliances, plunging all of Europe into a devastating war. It symbolized the volatile \\nmix of nationalism, militarism, and imperial ambitions in early 20th-century Europe. The subsequent war led to \\nunprecedented destruction, millions of casualties, and the collapse of major empires. The political landscape of the world \\nwas irrevocably altered, and it set the stage for future global conflicts. The consequences of the assassination echoed for \\ndecades. \\nWorld War I was unprecedented in scale and destructiveness, mobilizing millions of soldiers and resulting in approximately \\n17 million deaths. Industrialized warfare introduced new technologies such as machine guns, tanks, and chemical weapons. \\nThe war saw brutal trench fighting on the Western Front and sweeping maneuvers on the Eastern Front. Beyond Europe, \\nbattles were fought in colonial territories, involving soldiers from across the British Empire and France’s colonies. The war \\nseverely strained the economies and societies of the involved nations. The Russian Empire collapsed under the strain, \\nleading to the 1917 Bolshevik Revolution. The war ended in November 1918 with the defeat of the Central Powers, leaving \\nEurope politically and economically shattered. \\n1917–1922: The Russian Revolution and the Rise of the Soviet Union \\n1917 – The Russian Revolution \\nIn 1917, the Russian Revolution radically transformed Russia and the global ideological landscape. The Bolsheviks, led by \\nVladimir Lenin, overthrew the provisional government and dismantled the centuries-old monarchy. The revolution marked \\nthe beginning of communist rule in Russia, giving rise to the Soviet Union. It profoundly influenced global politics by \\nintroducing a new ideological rivalry between communism and capitalism. Western democracies observed the revolution \\nwith alarm, recognizing it as a major shift in world power. The events of 1917 ignited decades of ideological tension and \\ncompetition. \\nRussia’s political system crumbled after years of autocratic rule, war losses, and economic hardship. The February \\nRevolution of 1917 deposed Tsar Nicholas II and established a provisional government. However, the Bolsheviks, led by \\nVladimir Lenin, capitalized on widespread dissatisfaction and the promise of “peace, land, and bread” to seize power in the \\nOctober Revolution. The subsequent Russian Civil War pitted the Red Army (Bolsheviks) against the White Army (anti-\\ncommunist forces), resulting in Bolshevik victory by 1922 and the formation of the Soviet Union. This established a new \\nideological and political model—communism—that would challenge capitalist democracies and dominate global politics for \\ndecades. \\n1919–1939: The Treaty of Versailles, the League of Nations, and the Road to World War II \\nThe Treaty of Versailles in 1919 formally ended World War I but imposed harsh terms on Germany, including territorial \\nlosses, military restrictions, and reparations that crippled its economy. The treaty also redrew borders across Europe and \\nthe Middle East, creating new states like Czechoslovakia and Yugoslavia but often disregarding ethnic and cultural realities. \\nThe League of Nations was established to maintain peace, but it lacked enforcement power and key members like the \\nUnited States. The 1920s saw relative peace and economic growth until the Great Depression of the 1930s plunged many \\ncountries into crisis. This economic turmoil and dissatisfaction with the Treaty of Versailles facilitated the rise of extremist'"
      ]
     },
     "execution_count": 3,
     "metadata": {},
     "output_type": "execute_result"
    }
   ],
   "source": [
    "loader = PyPDFLoader(path)\n",
    "documents = loader.load()\n",
    "documents[0].page_content"
   ]
  },
  {
   "cell_type": "code",
   "execution_count": 55,
   "id": "bd36035f",
   "metadata": {},
   "outputs": [
    {
     "data": {
      "text/plain": [
       "'1900–1914: The Era of Imperialism, Nationalism, and Alliance Building \\n1904 – The Russo-Japanese War \\n1904–1905 – Russo-Japanese War \\nMarked the first time an Asian power defeated a European empire, shifting power dynamics in East Asia and shaking \\nEuropean confidence. In 1904, the Russo-Japanese War emerged as a pivotal development in global politics. It was the first \\nmajor military victory of an Asian power over a European one in modern times. The war revealed the weaknesses of the \\nRussian Empire and contributed to internal unrest that would later culminate in revolution. Japan’s victory elevated its \\nstatus as a global power and shifted the balance in East Asia. It also inspired other colonial territories to consider resistance \\nagainst European domination. The conflict signaled the decline of European dominance in Asia and marked Japan’s arrival \\non the world stage. \\nThe early 20th century was marked by intense competition among the great powers of Europe, the United States, and'"
      ]
     },
     "execution_count": 55,
     "metadata": {},
     "output_type": "execute_result"
    }
   ],
   "source": [
    "splitter = RecursiveCharacterTextSplitter(chunk_size=1000, chunk_overlap=10)\n",
    "docs = splitter.split_documents(documents)\n",
    "docs[0].page_content"
   ]
  },
  {
   "cell_type": "code",
   "execution_count": 56,
   "id": "954487ab",
   "metadata": {},
   "outputs": [],
   "source": [
    "embeddings = HuggingFaceEmbeddings(model_name=\"sentence-transformers/all-MiniLM-L6-v2\")"
   ]
  },
  {
   "cell_type": "code",
   "execution_count": 57,
   "id": "f8ffa149",
   "metadata": {},
   "outputs": [
    {
     "data": {
      "text/plain": [
       "HuggingFaceEmbeddings(client=SentenceTransformer(\n",
       "  (0): Transformer({'max_seq_length': 256, 'do_lower_case': False}) with Transformer model: BertModel \n",
       "  (1): Pooling({'word_embedding_dimension': 384, 'pooling_mode_cls_token': False, 'pooling_mode_mean_tokens': True, 'pooling_mode_max_tokens': False, 'pooling_mode_mean_sqrt_len_tokens': False, 'pooling_mode_weightedmean_tokens': False, 'pooling_mode_lasttoken': False, 'include_prompt': True})\n",
       "  (2): Normalize()\n",
       "), model_name='sentence-transformers/all-MiniLM-L6-v2', cache_folder=None, model_kwargs={}, encode_kwargs={}, multi_process=False, show_progress=False)"
      ]
     },
     "execution_count": 57,
     "metadata": {},
     "output_type": "execute_result"
    }
   ],
   "source": [
    "embeddings"
   ]
  },
  {
   "cell_type": "code",
   "execution_count": 58,
   "id": "40d965bb",
   "metadata": {},
   "outputs": [],
   "source": [
    "db = FAISS.from_documents(docs, embeddings)"
   ]
  },
  {
   "cell_type": "code",
   "execution_count": 59,
   "id": "56eb513d",
   "metadata": {},
   "outputs": [
    {
     "name": "stdout",
     "output_type": "stream",
     "text": [
      "In 1914, the assassination of Archduke Franz Ferdinand of Austria-Hungary triggered the outbreak of World War I. This \n",
      "single event activated a complex web of alliances, plunging all of Europe into a devastating war. It symbolized the volatile \n",
      "mix of nationalism, militarism, and imperial ambitions in early 20th-century Europe. The subsequent war led to \n",
      "unprecedented destruction, millions of casualties, and the collapse of major empires. The political landscape of the world \n",
      "was irrevocably altered, and it set the stage for future global conflicts. The consequences of the assassination echoed for \n",
      "decades. \n",
      "World War I was unprecedented in scale and destructiveness, mobilizing millions of soldiers and resulting in approximately \n",
      "17 million deaths. Industrialized warfare introduced new technologies such as machine guns, tanks, and chemical weapons. \n",
      "The war saw brutal trench fighting on the Western Front and sweeping maneuvers on the Eastern Front. Beyond Europe,\n"
     ]
    }
   ],
   "source": [
    "query = \"world war 1\"\n",
    "doc = db.similarity_search(query)\n",
    "print(doc[0].page_content) "
   ]
  },
  {
   "cell_type": "code",
   "execution_count": 60,
   "id": "40d79bba",
   "metadata": {},
   "outputs": [],
   "source": [
    "retriever = db.as_retriever(search_kwargs={\"k\": 10})"
   ]
  },
  {
   "cell_type": "code",
   "execution_count": 61,
   "id": "77cab201",
   "metadata": {},
   "outputs": [],
   "source": [
    "from langchain.chains import RetrievalQA\n",
    "from langchain.llms import HuggingFacePipeline\n",
    "from transformers import pipeline, AutoTokenizer, AutoModelForCausalLM,AutoModelForSeq2SeqLM\n",
    "import torch"
   ]
  },
  {
   "cell_type": "code",
   "execution_count": 62,
   "id": "74b21953",
   "metadata": {},
   "outputs": [],
   "source": [
    "model_id = \"google/flan-t5-base\"\n",
    "tokenizer = AutoTokenizer.from_pretrained(model_id)\n",
    "model = AutoModelForSeq2SeqLM.from_pretrained(model_id)"
   ]
  },
  {
   "cell_type": "code",
   "execution_count": 63,
   "id": "ebc22777",
   "metadata": {},
   "outputs": [
    {
     "name": "stderr",
     "output_type": "stream",
     "text": [
      "Device set to use cpu\n"
     ]
    }
   ],
   "source": [
    "pipe = pipeline(\n",
    "    \"text2text-generation\",\n",
    "    model= model,\n",
    "    tokenizer=tokenizer,\n",
    "    max_new_tokens = 1024,\n",
    "    do_sample=True,\n",
    "    temperature=0.8,\n",
    "    top_p=0.98,\n",
    "    top_k=5\n",
    ")"
   ]
  },
  {
   "cell_type": "code",
   "execution_count": 64,
   "id": "a1688571",
   "metadata": {},
   "outputs": [],
   "source": [
    "local_llm = HuggingFacePipeline(pipeline=pipe)"
   ]
  },
  {
   "cell_type": "code",
   "execution_count": 65,
   "id": "6eaf1848",
   "metadata": {},
   "outputs": [],
   "source": [
    "qa_chain = RetrievalQA.from_chain_type(\n",
    "    llm=local_llm,\n",
    "    chain_type=\"stuff\",\n",
    "    retriever=retriever,\n",
    "    return_source_documents=True\n",
    ")"
   ]
  },
  {
   "cell_type": "code",
   "execution_count": 66,
   "id": "7c416698",
   "metadata": {},
   "outputs": [
    {
     "name": "stderr",
     "output_type": "stream",
     "text": [
      "Token indices sequence length is longer than the specified maximum sequence length for this model (2053 > 512). Running this sequence through the model will result in indexing errors\n"
     ]
    },
    {
     "name": "stdout",
     "output_type": "stream",
     "text": [
      "\n",
      "Assistant: conflict\n",
      "--------------------------------------------------\n",
      "\n",
      "Assistant: The United States entered the war in 1941 after the Japanese attack on Pearl Harbor\n",
      "--------------------------------------------------\n"
     ]
    }
   ],
   "source": [
    "while True:\n",
    "  query = input(\"User: \")\n",
    "  if query.lower() in (\"exit\", \"quit\"):\n",
    "    break\n",
    "  result = qa_chain.invoke(query)\n",
    "  print(\"\\nAssistant:\", result['result'])\n",
    "  print(\"-\" * 50)"
   ]
  },
  {
   "cell_type": "code",
   "execution_count": null,
   "id": "e84a133c",
   "metadata": {},
   "outputs": [],
   "source": []
  }
 ],
 "metadata": {
  "kernelspec": {
   "display_name": ".conda",
   "language": "python",
   "name": "python3"
  },
  "language_info": {
   "codemirror_mode": {
    "name": "ipython",
    "version": 3
   },
   "file_extension": ".py",
   "mimetype": "text/x-python",
   "name": "python",
   "nbconvert_exporter": "python",
   "pygments_lexer": "ipython3",
   "version": "3.12.9"
  }
 },
 "nbformat": 4,
 "nbformat_minor": 5
}
